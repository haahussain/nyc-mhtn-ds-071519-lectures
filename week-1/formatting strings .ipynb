{
 "cells": [
  {
   "cell_type": "code",
   "execution_count": 22,
   "metadata": {},
   "outputs": [
    {
     "data": {
      "text/plain": [
       "'Hello My name is Ali. I enjoy eating'"
      ]
     },
     "execution_count": 22,
     "metadata": {},
     "output_type": "execute_result"
    }
   ],
   "source": [
    "greeting= 'Hello'\n",
    "hobby='eating'\n",
    "'{} My name is Ali. I enjoy {}'.format(greeting, hobby)"
   ]
  },
  {
   "cell_type": "code",
   "execution_count": 25,
   "metadata": {},
   "outputs": [
    {
     "data": {
      "text/plain": [
       "'Hello My name is Ali. I enjoy eating. I grew up in New York and enjoy playing football. My favorite language is Python'"
      ]
     },
     "execution_count": 25,
     "metadata": {},
     "output_type": "execute_result"
    }
   ],
   "source": [
    "greeting= 'Hello'\n",
    "hobby= 'eating'\n",
    "hometown='New York'\n",
    "sport= 'football'\n",
    "language='Python'\n",
    "\n",
    "'{} My name is Ali. I enjoy {}. I grew up in {} and enjoy playing {}. My favorite language is {}'.format(greeting,\n",
    "hobby, hometown, sport, language)\n",
    "\n",
    "\n",
    "\n",
    "\n",
    "\n"
   ]
  },
  {
   "cell_type": "code",
   "execution_count": 30,
   "metadata": {},
   "outputs": [
    {
     "data": {
      "text/plain": [
       "'Hi My name is Ali. I enjoy eating. I grew up in New York and enjoy playing football.'"
      ]
     },
     "execution_count": 30,
     "metadata": {},
     "output_type": "execute_result"
    }
   ],
   "source": [
    "greeting= 'Hi'\n",
    "hobby= 'eating'\n",
    "hometown= 'New York'\n",
    "sport= 'football'\n",
    "\n",
    "\n",
    "f'{greeting} My name is Ali. I enjoy {hobby}. I grew up in {hometown} and enjoy playing {sport}.'\n"
   ]
  },
  {
   "cell_type": "code",
   "execution_count": 65,
   "metadata": {},
   "outputs": [
    {
     "data": {
      "text/plain": [
       "'Hello My name is ALI. I enjoy eating.'"
      ]
     },
     "execution_count": 65,
     "metadata": {},
     "output_type": "execute_result"
    }
   ],
   "source": [
    "info= {\"name\": \"Ali\", \"hobby\": \"eating\"}\n",
    "\n",
    "f'Hello My name is {info[\"name\"].upper()}. I enjoy {info[\"hobby\"]}.'"
   ]
  },
  {
   "cell_type": "code",
   "execution_count": 19,
   "metadata": {},
   "outputs": [
    {
     "ename": "SyntaxError",
     "evalue": "invalid syntax (<ipython-input-19-4c34916a4c2b>, line 3)",
     "output_type": "error",
     "traceback": [
      "\u001b[0;36m  File \u001b[0;32m\"<ipython-input-19-4c34916a4c2b>\"\u001b[0;36m, line \u001b[0;32m3\u001b[0m\n\u001b[0;31m    f'Hello My name is {info['name']}. I enjoy {info['hobby']}.'\u001b[0m\n\u001b[0m                                 ^\u001b[0m\n\u001b[0;31mSyntaxError\u001b[0m\u001b[0;31m:\u001b[0m invalid syntax\n"
     ]
    }
   ],
   "source": [
    "info= {'name': 'Ali', 'hobby': 'eating'}\n",
    "\n",
    "f'Hello My name is {info['name']}. I enjoy {info['hobby']}.'"
   ]
  },
  {
   "cell_type": "code",
   "execution_count": 40,
   "metadata": {},
   "outputs": [
    {
     "data": {
      "text/plain": [
       "'This is blogpost 1.'"
      ]
     },
     "execution_count": 40,
     "metadata": {},
     "output_type": "execute_result"
    }
   ],
   "source": [
    "name='Ali'\n",
    "day='Sunday'\n",
    "number='1' \n",
    "\n",
    "f'My name is {name}.'\n",
    "f'Today is {day}.'\n",
    "f'This is blogpost {number}.'\n"
   ]
  },
  {
   "cell_type": "code",
   "execution_count": 61,
   "metadata": {},
   "outputs": [
    {
     "data": {
      "text/plain": [
       "'My name is Ali. Today is Sunday. This is blog post 1.'"
      ]
     },
     "execution_count": 61,
     "metadata": {},
     "output_type": "execute_result"
    }
   ],
   "source": [
    "name='Ali'\n",
    "day='Sunday'\n",
    "number= '1' \n",
    "example=(f'My name is {name}.'\n",
    "         f' Today is {day}.'\n",
    "         f' This is blog post {number}.')\n",
    "example\n",
    "\n",
    "\n"
   ]
  },
  {
   "cell_type": "code",
   "execution_count": null,
   "metadata": {},
   "outputs": [],
   "source": []
  }
 ],
 "metadata": {
  "kernelspec": {
   "display_name": "Python 3",
   "language": "python",
   "name": "python3"
  },
  "language_info": {
   "codemirror_mode": {
    "name": "ipython",
    "version": 3
   },
   "file_extension": ".py",
   "mimetype": "text/x-python",
   "name": "python",
   "nbconvert_exporter": "python",
   "pygments_lexer": "ipython3",
   "version": "3.7.3"
  }
 },
 "nbformat": 4,
 "nbformat_minor": 2
}
