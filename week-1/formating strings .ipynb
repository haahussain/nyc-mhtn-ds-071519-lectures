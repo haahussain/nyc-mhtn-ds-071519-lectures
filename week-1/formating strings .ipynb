{
 "cells": [
  {
   "cell_type": "code",
   "execution_count": 16,
   "metadata": {},
   "outputs": [
    {
     "data": {
      "text/plain": [
       "'Hello My name is Ali. I enjoy <built-in method upper of str object at 0x108e9db90>. I grew up in New York and enjoy playing football'"
      ]
     },
     "execution_count": 16,
     "metadata": {},
     "output_type": "execute_result"
    }
   ],
   "source": [
    "greeting= 'Hello'\n",
    "hobby= 'eating'\n",
    "\n",
    "hometown='New York'\n",
    "sport= 'football'\n",
    "\n",
    "'{} My name is Ali. I enjoy {}. I grew up in {} and enjoy playing {}'.format(greeting, hobby, hometown, sport)\n",
    "\n",
    "\n",
    "\n",
    "\n",
    "\n"
   ]
  },
  {
   "cell_type": "code",
   "execution_count": 11,
   "metadata": {},
   "outputs": [
    {
     "data": {
      "text/plain": [
       "'Hi My name is Ali. I enjoy eating. I grew up in New York and enjoy playing football.'"
      ]
     },
     "execution_count": 11,
     "metadata": {},
     "output_type": "execute_result"
    }
   ],
   "source": [
    "greeting= 'Hi'\n",
    "hobby= 'eating'\n",
    "hometown= 'New York'\n",
    "sport= 'football' \n",
    "\n",
    "f'{greeting} My name is Ali. I enjoy {hobby}. I grew up in {hometown} and enjoy playing {sport}.'\n"
   ]
  },
  {
   "cell_type": "code",
   "execution_count": null,
   "metadata": {},
   "outputs": [],
   "source": []
  }
 ],
 "metadata": {
  "kernelspec": {
   "display_name": "Python 3",
   "language": "python",
   "name": "python3"
  },
  "language_info": {
   "codemirror_mode": {
    "name": "ipython",
    "version": 3
   },
   "file_extension": ".py",
   "mimetype": "text/x-python",
   "name": "python",
   "nbconvert_exporter": "python",
   "pygments_lexer": "ipython3",
   "version": "3.7.3"
  }
 },
 "nbformat": 4,
 "nbformat_minor": 2
}
