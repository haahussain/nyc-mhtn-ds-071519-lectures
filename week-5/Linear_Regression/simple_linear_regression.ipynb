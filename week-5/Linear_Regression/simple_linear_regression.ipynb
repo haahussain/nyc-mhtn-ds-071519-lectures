{
 "cells": [
  {
   "cell_type": "code",
   "execution_count": 1,
   "metadata": {},
   "outputs": [],
   "source": [
    "# build a simple linear regression in python\n",
    "import pandas as pd\n",
    "import numpy as np\n",
    "import statsmodels.api as sm\n",
    "from statsmodels.formula.api import ols\n",
    "import matplotlib.pyplot as plt\n",
    "import seaborn as sns\n",
    "from scipy.stats.stats import pearsonr\n",
    "import scipy as sp\n",
    "plt.style.use('seaborn')"
   ]
  },
  {
   "cell_type": "markdown",
   "metadata": {},
   "source": [
    "# Simple Linear Regression"
   ]
  },
  {
   "cell_type": "markdown",
   "metadata": {},
   "source": [
    "**Regression analysis** is a tool to investigate how independent variables are related to a dependent varliable. For example, one may wish to use a person's height, gender, race, etc. to predict a person's weight. \n"
   ]
  },
  {
   "cell_type": "markdown",
   "metadata": {},
   "source": [
    "**Response Variable**\n",
    "- Denoted, Y, is also called the target variable  or dependent variable. In the example, weight is the response variable.\n",
    "\n",
    "**Predictor Variable**\n",
    "- Denoted, X, is also called the explanatory variable or independent variable. In the example, height is the predictor."
   ]
  },
  {
   "cell_type": "markdown",
   "metadata": {},
   "source": [
    "\n",
    "\n",
    "To use known information to provide a better estimate, we need to understand how the dependent and independent variables are related. In statistics, we can describe how variables are related using a mathematical function. The function along with other assumptions is called a model.  \n",
    "\n",
    "In this class, we will focus on a model where we use one predictor variable(height) to predict the response variable(weight). We refer to this model as the simple linear regression model."
   ]
  },
  {
   "cell_type": "code",
   "execution_count": 2,
   "metadata": {},
   "outputs": [],
   "source": [
    "#read in height weight data\n",
    "weight_df = pd.read_csv('https://raw.githubusercontent.com/learn-co-students/nyc-mhtn-ds-071519-lectures/master/week-1/Descriptive_Statistics/weight-height.csv')"
   ]
  },
  {
   "cell_type": "code",
   "execution_count": 3,
   "metadata": {},
   "outputs": [],
   "source": [
    "#read in movie data\n",
    "movie_df = pd.read_csv('cleaned_movie_data.csv', index_col=0)"
   ]
  },
  {
   "cell_type": "code",
   "execution_count": 4,
   "metadata": {},
   "outputs": [
    {
     "data": {
      "text/html": [
       "<div>\n",
       "<style scoped>\n",
       "    .dataframe tbody tr th:only-of-type {\n",
       "        vertical-align: middle;\n",
       "    }\n",
       "\n",
       "    .dataframe tbody tr th {\n",
       "        vertical-align: top;\n",
       "    }\n",
       "\n",
       "    .dataframe thead th {\n",
       "        text-align: right;\n",
       "    }\n",
       "</style>\n",
       "<table border=\"1\" class=\"dataframe\">\n",
       "  <thead>\n",
       "    <tr style=\"text-align: right;\">\n",
       "      <th></th>\n",
       "      <th>color</th>\n",
       "      <th>director_name</th>\n",
       "      <th>num_critic_for_reviews</th>\n",
       "      <th>duration</th>\n",
       "      <th>director_facebook_likes</th>\n",
       "      <th>actor_3_facebook_likes</th>\n",
       "      <th>actor_2_name</th>\n",
       "      <th>actor_1_facebook_likes</th>\n",
       "      <th>gross</th>\n",
       "      <th>genres</th>\n",
       "      <th>...</th>\n",
       "      <th>title_year</th>\n",
       "      <th>actor_2_facebook_likes</th>\n",
       "      <th>imdb_score</th>\n",
       "      <th>movie_facebook_likes</th>\n",
       "      <th>rating</th>\n",
       "      <th>G</th>\n",
       "      <th>Other</th>\n",
       "      <th>PG</th>\n",
       "      <th>PG-13</th>\n",
       "      <th>R</th>\n",
       "    </tr>\n",
       "  </thead>\n",
       "  <tbody>\n",
       "    <tr>\n",
       "      <th>0</th>\n",
       "      <td>Color</td>\n",
       "      <td>James Cameron</td>\n",
       "      <td>723.0</td>\n",
       "      <td>178.0</td>\n",
       "      <td>0.0</td>\n",
       "      <td>855.0</td>\n",
       "      <td>Joel David Moore</td>\n",
       "      <td>1000.0</td>\n",
       "      <td>760505847.0</td>\n",
       "      <td>Action|Adventure|Fantasy|Sci-Fi</td>\n",
       "      <td>...</td>\n",
       "      <td>2009.0</td>\n",
       "      <td>936.0</td>\n",
       "      <td>7.9</td>\n",
       "      <td>33000</td>\n",
       "      <td>PG-13</td>\n",
       "      <td>0</td>\n",
       "      <td>0</td>\n",
       "      <td>0</td>\n",
       "      <td>1</td>\n",
       "      <td>0</td>\n",
       "    </tr>\n",
       "    <tr>\n",
       "      <th>1</th>\n",
       "      <td>Color</td>\n",
       "      <td>Gore Verbinski</td>\n",
       "      <td>302.0</td>\n",
       "      <td>169.0</td>\n",
       "      <td>563.0</td>\n",
       "      <td>1000.0</td>\n",
       "      <td>Orlando Bloom</td>\n",
       "      <td>40000.0</td>\n",
       "      <td>309404152.0</td>\n",
       "      <td>Action|Adventure|Fantasy</td>\n",
       "      <td>...</td>\n",
       "      <td>2007.0</td>\n",
       "      <td>5000.0</td>\n",
       "      <td>7.1</td>\n",
       "      <td>0</td>\n",
       "      <td>PG-13</td>\n",
       "      <td>0</td>\n",
       "      <td>0</td>\n",
       "      <td>0</td>\n",
       "      <td>1</td>\n",
       "      <td>0</td>\n",
       "    </tr>\n",
       "    <tr>\n",
       "      <th>2</th>\n",
       "      <td>Color</td>\n",
       "      <td>Sam Mendes</td>\n",
       "      <td>602.0</td>\n",
       "      <td>148.0</td>\n",
       "      <td>0.0</td>\n",
       "      <td>161.0</td>\n",
       "      <td>Rory Kinnear</td>\n",
       "      <td>11000.0</td>\n",
       "      <td>200074175.0</td>\n",
       "      <td>Action|Adventure|Thriller</td>\n",
       "      <td>...</td>\n",
       "      <td>2015.0</td>\n",
       "      <td>393.0</td>\n",
       "      <td>6.8</td>\n",
       "      <td>85000</td>\n",
       "      <td>PG-13</td>\n",
       "      <td>0</td>\n",
       "      <td>0</td>\n",
       "      <td>0</td>\n",
       "      <td>1</td>\n",
       "      <td>0</td>\n",
       "    </tr>\n",
       "    <tr>\n",
       "      <th>3</th>\n",
       "      <td>Color</td>\n",
       "      <td>Christopher Nolan</td>\n",
       "      <td>813.0</td>\n",
       "      <td>164.0</td>\n",
       "      <td>22000.0</td>\n",
       "      <td>23000.0</td>\n",
       "      <td>Christian Bale</td>\n",
       "      <td>27000.0</td>\n",
       "      <td>448130642.0</td>\n",
       "      <td>Action|Thriller</td>\n",
       "      <td>...</td>\n",
       "      <td>2012.0</td>\n",
       "      <td>23000.0</td>\n",
       "      <td>8.5</td>\n",
       "      <td>164000</td>\n",
       "      <td>PG-13</td>\n",
       "      <td>0</td>\n",
       "      <td>0</td>\n",
       "      <td>0</td>\n",
       "      <td>1</td>\n",
       "      <td>0</td>\n",
       "    </tr>\n",
       "    <tr>\n",
       "      <th>5</th>\n",
       "      <td>Color</td>\n",
       "      <td>Andrew Stanton</td>\n",
       "      <td>462.0</td>\n",
       "      <td>132.0</td>\n",
       "      <td>475.0</td>\n",
       "      <td>530.0</td>\n",
       "      <td>Samantha Morton</td>\n",
       "      <td>640.0</td>\n",
       "      <td>73058679.0</td>\n",
       "      <td>Action|Adventure|Sci-Fi</td>\n",
       "      <td>...</td>\n",
       "      <td>2012.0</td>\n",
       "      <td>632.0</td>\n",
       "      <td>6.6</td>\n",
       "      <td>24000</td>\n",
       "      <td>PG-13</td>\n",
       "      <td>0</td>\n",
       "      <td>0</td>\n",
       "      <td>0</td>\n",
       "      <td>1</td>\n",
       "      <td>0</td>\n",
       "    </tr>\n",
       "  </tbody>\n",
       "</table>\n",
       "<p>5 rows × 32 columns</p>\n",
       "</div>"
      ],
      "text/plain": [
       "   color      director_name  num_critic_for_reviews  duration  \\\n",
       "0  Color      James Cameron                   723.0     178.0   \n",
       "1  Color     Gore Verbinski                   302.0     169.0   \n",
       "2  Color         Sam Mendes                   602.0     148.0   \n",
       "3  Color  Christopher Nolan                   813.0     164.0   \n",
       "5  Color     Andrew Stanton                   462.0     132.0   \n",
       "\n",
       "   director_facebook_likes  actor_3_facebook_likes      actor_2_name  \\\n",
       "0                      0.0                   855.0  Joel David Moore   \n",
       "1                    563.0                  1000.0     Orlando Bloom   \n",
       "2                      0.0                   161.0      Rory Kinnear   \n",
       "3                  22000.0                 23000.0    Christian Bale   \n",
       "5                    475.0                   530.0   Samantha Morton   \n",
       "\n",
       "   actor_1_facebook_likes        gross                           genres  ...  \\\n",
       "0                  1000.0  760505847.0  Action|Adventure|Fantasy|Sci-Fi  ...   \n",
       "1                 40000.0  309404152.0         Action|Adventure|Fantasy  ...   \n",
       "2                 11000.0  200074175.0        Action|Adventure|Thriller  ...   \n",
       "3                 27000.0  448130642.0                  Action|Thriller  ...   \n",
       "5                   640.0   73058679.0          Action|Adventure|Sci-Fi  ...   \n",
       "\n",
       "  title_year actor_2_facebook_likes  imdb_score  movie_facebook_likes rating  \\\n",
       "0     2009.0                  936.0         7.9                 33000  PG-13   \n",
       "1     2007.0                 5000.0         7.1                     0  PG-13   \n",
       "2     2015.0                  393.0         6.8                 85000  PG-13   \n",
       "3     2012.0                23000.0         8.5                164000  PG-13   \n",
       "5     2012.0                  632.0         6.6                 24000  PG-13   \n",
       "\n",
       "   G Other  PG PG-13  R  \n",
       "0  0     0   0     1  0  \n",
       "1  0     0   0     1  0  \n",
       "2  0     0   0     1  0  \n",
       "3  0     0   0     1  0  \n",
       "5  0     0   0     1  0  \n",
       "\n",
       "[5 rows x 32 columns]"
      ]
     },
     "execution_count": 4,
     "metadata": {},
     "output_type": "execute_result"
    }
   ],
   "source": [
    "movie_df.head()"
   ]
  },
  {
   "cell_type": "markdown",
   "metadata": {},
   "source": [
    "## Objectives: \n",
    "\n",
    "- Use plots and summary statistics to describe the relationship between the response variable and the predictor variable.\n",
    "- Apply the regression model and interpret the results.\n",
    "- Perform a hypothesis test for the population correlation.\n",
    "- Know the assumptions and limitations of a linear regression model.\n"
   ]
  },
  {
   "cell_type": "markdown",
   "metadata": {},
   "source": [
    "## Setting the stage\n",
    "In order to create a model that can make predictions for unseen data, we need to understand the relationship between the target variable and the explanatory variable."
   ]
  },
  {
   "cell_type": "markdown",
   "metadata": {},
   "source": [
    "For a brief review of linear functions, recall that the equation of a line has the following form:\n",
    "$$y=mx+b$$\n",
    "\n",
    "where $m$ is the slope and $b$ is the y-intercept.\n",
    "\n"
   ]
  },
  {
   "cell_type": "markdown",
   "metadata": {},
   "source": [
    "<img src=\"https://www.mathworks.com/help/symbolic/mupad_ug/math-statistics-fits-linear-36e42cfe.png\" >"
   ]
  },
  {
   "cell_type": "markdown",
   "metadata": {},
   "source": [
    "Given two points on a line, ($x_1$ and $y_1$) and ($x_2$ and $y_2$) , the slope is calculated by:\n",
    "\n",
    "\\begin{align} m&=\\dfrac{y_2-y_1}{x_2-x_1}\\\\&=\\dfrac{\\text{change in y}}{\\text{change in x}}\\\\&=\\frac{\\text{rise}}{\\text{run}} \\end{align}"
   ]
  },
  {
   "cell_type": "markdown",
   "metadata": {},
   "source": [
    "In order to be confident that our model will represent the relationship between two variables, we need to be sure there is a linear relationship between the two.  Let's examine the data for a linear relationship."
   ]
  },
  {
   "cell_type": "markdown",
   "metadata": {},
   "source": [
    "### Question:\n",
    "\n",
    "If we want to visually examine if there is relationship between two continuous variables what type of graphic should we use?"
   ]
  },
  {
   "cell_type": "code",
   "execution_count": 5,
   "metadata": {},
   "outputs": [
    {
     "data": {
      "text/plain": [
       "<matplotlib.axes._subplots.AxesSubplot at 0x1c1a3577f0>"
      ]
     },
     "execution_count": 5,
     "metadata": {},
     "output_type": "execute_result"
    },
    {
     "data": {
      "image/png": "[encoded data removed]",
      "text/plain": [
       "<Figure size 432x288 with 1 Axes>"
      ]
     },
     "metadata": {
      "needs_background": "light"
     },
     "output_type": "display_data"
    }
   ],
   "source": [
    "##code for a ____\n",
    "\n",
    "weight_df.plot.scatter(x='Height', y='Weight')"
   ]
  },
  {
   "cell_type": "code",
   "execution_count": 9,
   "metadata": {},
   "outputs": [
    {
     "data": {
      "text/plain": [
       "<bound method NDFrame.keys of                  color       director_name  num_critic_for_reviews  duration  \\\n",
       "0                Color       James Cameron                   723.0     178.0   \n",
       "1                Color      Gore Verbinski                   302.0     169.0   \n",
       "2                Color          Sam Mendes                   602.0     148.0   \n",
       "3                Color   Christopher Nolan                   813.0     164.0   \n",
       "5                Color      Andrew Stanton                   462.0     132.0   \n",
       "6                Color           Sam Raimi                   392.0     156.0   \n",
       "7                Color        Nathan Greno                   324.0     100.0   \n",
       "8                Color         Joss Whedon                   635.0     141.0   \n",
       "9                Color         David Yates                   375.0     153.0   \n",
       "10               Color         Zack Snyder                   673.0     183.0   \n",
       "11               Color        Bryan Singer                   434.0     169.0   \n",
       "12               Color        Marc Forster                   403.0     106.0   \n",
       "13               Color      Gore Verbinski                   313.0     151.0   \n",
       "14               Color      Gore Verbinski                   450.0     150.0   \n",
       "15               Color         Zack Snyder                   733.0     143.0   \n",
       "16               Color      Andrew Adamson                   258.0     150.0   \n",
       "17               Color         Joss Whedon                   703.0     173.0   \n",
       "18               Color        Rob Marshall                   448.0     136.0   \n",
       "19               Color    Barry Sonnenfeld                   451.0     106.0   \n",
       "20               Color       Peter Jackson                   422.0     164.0   \n",
       "21               Color           Marc Webb                   599.0     153.0   \n",
       "22               Color        Ridley Scott                   343.0     156.0   \n",
       "23               Color       Peter Jackson                   509.0     186.0   \n",
       "24               Color         Chris Weitz                   251.0     113.0   \n",
       "25               Color       Peter Jackson                   446.0     201.0   \n",
       "26               Color       James Cameron                   315.0     194.0   \n",
       "27               Color       Anthony Russo                   516.0     147.0   \n",
       "28               Color          Peter Berg                   377.0     131.0   \n",
       "29               Color     Colin Trevorrow                   644.0     124.0   \n",
       "30               Color          Sam Mendes                   750.0     143.0   \n",
       "...                ...                 ...                     ...       ...   \n",
       "4974             Color         Julie Davis                     5.0      86.0   \n",
       "4975             Color     Myles Berkowitz                    32.0      87.0   \n",
       "4977             Color     Morgan Spurlock                   193.0     100.0   \n",
       "4978             Color       Brandon Trost                    66.0      82.0   \n",
       "4979             Color        Joe Swanberg                    65.0      82.0   \n",
       "4984             Color        Edward Burns                    36.0      98.0   \n",
       "4987             Color         Lena Dunham                   113.0      98.0   \n",
       "4997             Color  David Gordon Green                    75.0      90.0   \n",
       "4998             Color        Kevin Jordan                    21.0      90.0   \n",
       "5001             Color     Martin Scorsese                    71.0     117.0   \n",
       "5003             Color   Bradley Rust Gray                    61.0      79.0   \n",
       "5004             Color          Mike Bruce                     3.0      78.0   \n",
       "5007             Color        Ben Wheatley                    53.0      93.0   \n",
       "5008   Black and White         Kevin Smith                   136.0     102.0   \n",
       "5009             Color       James Bidgood                     8.0      65.0   \n",
       "5011             Color         Neil LaBute                    80.0      97.0   \n",
       "5012             Color          David Ayer                   233.0     109.0   \n",
       "5015   Black and White   Richard Linklater                    61.0     100.0   \n",
       "5021             Color         Jay Duplass                    51.0      85.0   \n",
       "5023             Color          Daryl Wein                    22.0      88.0   \n",
       "5025             Color         John Waters                    73.0     108.0   \n",
       "5026             Color     Olivier Assayas                    81.0     110.0   \n",
       "5027             Color        Jafar Panahi                    64.0      90.0   \n",
       "5029             Color    Kiyoshi Kurosawa                    78.0     111.0   \n",
       "5033             Color       Shane Carruth                   143.0      77.0   \n",
       "5034             Color    Neill Dela Llana                    35.0      80.0   \n",
       "5035             Color    Robert Rodriguez                    56.0      81.0   \n",
       "5037             Color        Edward Burns                    14.0      95.0   \n",
       "5041             Color         Daniel Hsia                    14.0     100.0   \n",
       "5042             Color            Jon Gunn                    43.0      90.0   \n",
       "\n",
       "      director_facebook_likes  actor_3_facebook_likes          actor_2_name  \\\n",
       "0                         0.0                   855.0      Joel David Moore   \n",
       "1                       563.0                  1000.0         Orlando Bloom   \n",
       "2                         0.0                   161.0          Rory Kinnear   \n",
       "3                     22000.0                 23000.0        Christian Bale   \n",
       "5                       475.0                   530.0       Samantha Morton   \n",
       "6                         0.0                  4000.0          James Franco   \n",
       "7                        15.0                   284.0          Donna Murphy   \n",
       "8                         0.0                 19000.0     Robert Downey Jr.   \n",
       "9                       282.0                 10000.0      Daniel Radcliffe   \n",
       "10                        0.0                  2000.0          Lauren Cohan   \n",
       "11                        0.0                   903.0         Marlon Brando   \n",
       "12                      395.0                   393.0       Mathieu Amalric   \n",
       "13                      563.0                  1000.0         Orlando Bloom   \n",
       "14                      563.0                  1000.0           Ruth Wilson   \n",
       "15                        0.0                   748.0    Christopher Meloni   \n",
       "16                       80.0                   201.0  Pierfrancesco Favino   \n",
       "17                        0.0                 19000.0     Robert Downey Jr.   \n",
       "18                      252.0                  1000.0           Sam Claflin   \n",
       "19                      188.0                   718.0     Michael Stuhlbarg   \n",
       "20                        0.0                   773.0            Adam Brown   \n",
       "21                      464.0                   963.0       Andrew Garfield   \n",
       "22                        0.0                   738.0          William Hurt   \n",
       "23                        0.0                   773.0            Adam Brown   \n",
       "24                      129.0                  1000.0             Eva Green   \n",
       "25                        0.0                    84.0    Thomas Kretschmann   \n",
       "26                        0.0                   794.0          Kate Winslet   \n",
       "27                       94.0                 11000.0    Scarlett Johansson   \n",
       "28                      532.0                   627.0   Alexander Skarsgård   \n",
       "29                      365.0                  1000.0            Judy Greer   \n",
       "30                        0.0                   393.0         Helen McCrory   \n",
       "...                       ...                     ...                   ...   \n",
       "4974                     12.0                   117.0   Meredith Scott Lynn   \n",
       "4975                      0.0                   153.0          Tom Ardavany   \n",
       "4977                    293.0                     0.0        Amanda Kearsan   \n",
       "4978                     32.0                   128.0           Sean Whalen   \n",
       "4979                    217.0                   442.0           Lena Dunham   \n",
       "4984                      0.0                    73.0       Michael McGlone   \n",
       "4987                    969.0                   433.0         Merritt Wever   \n",
       "4997                    234.0                    15.0           Eddie Rouse   \n",
       "4998                      4.0                   113.0        Christa Miller   \n",
       "5001                  17000.0                   476.0            Levon Helm   \n",
       "5003                      2.0                    20.0          Mark Rendall   \n",
       "5004                      6.0                    17.0     Kirpatrick Thomas   \n",
       "5007                    214.0                    59.0              Tony Way   \n",
       "5008                      0.0                   216.0      Brian O'Halloran   \n",
       "5009                      0.0                     NaN         Bobby Kendall   \n",
       "5011                    119.0                     7.0           Matt Malloy   \n",
       "5012                    453.0                   120.0        Martin Donovan   \n",
       "5015                      0.0                     0.0     Richard Linklater   \n",
       "5021                    157.0                    10.0         Katie Aselton   \n",
       "5023                     38.0                   211.0         Heather Burns   \n",
       "5025                      0.0                   105.0            Mink Stole   \n",
       "5026                    107.0                    45.0        Béatrice Dalle   \n",
       "5027                    397.0                     0.0     Nargess Mamizadeh   \n",
       "5029                     62.0                     6.0         Anna Nakagawa   \n",
       "5033                    291.0                     8.0        David Sullivan   \n",
       "5034                      0.0                     0.0       Edgar Tancangco   \n",
       "5035                      0.0                     6.0       Peter Marquardt   \n",
       "5037                      0.0                   133.0    Caitlin FitzGerald   \n",
       "5041                      0.0                   489.0         Daniel Henney   \n",
       "5042                     16.0                    16.0      Brian Herzlinger   \n",
       "\n",
       "      actor_1_facebook_likes        gross  \\\n",
       "0                     1000.0  760505847.0   \n",
       "1                    40000.0  309404152.0   \n",
       "2                    11000.0  200074175.0   \n",
       "3                    27000.0  448130642.0   \n",
       "5                      640.0   73058679.0   \n",
       "6                    24000.0  336530303.0   \n",
       "7                      799.0  200807262.0   \n",
       "8                    26000.0  458991599.0   \n",
       "9                    25000.0  301956980.0   \n",
       "10                   15000.0  330249062.0   \n",
       "11                   18000.0  200069408.0   \n",
       "12                     451.0  168368427.0   \n",
       "13                   40000.0  423032628.0   \n",
       "14                   40000.0   89289910.0   \n",
       "15                   15000.0  291021565.0   \n",
       "16                   22000.0  141614023.0   \n",
       "17                   26000.0  623279547.0   \n",
       "18                   40000.0  241063875.0   \n",
       "19                   10000.0  179020854.0   \n",
       "20                    5000.0  255108370.0   \n",
       "21                   15000.0  262030663.0   \n",
       "22                     891.0  105219735.0   \n",
       "23                    5000.0  258355354.0   \n",
       "24                   16000.0   70083519.0   \n",
       "25                    6000.0  218051260.0   \n",
       "26                   29000.0  658672302.0   \n",
       "27                   21000.0  407197282.0   \n",
       "28                   14000.0   65173160.0   \n",
       "29                    3000.0  652177271.0   \n",
       "30                     883.0  304360277.0   \n",
       "...                      ...          ...   \n",
       "4974                   238.0      33598.0   \n",
       "4975                  1000.0     536767.0   \n",
       "4977                     0.0   11529368.0   \n",
       "4978                   968.0      40557.0   \n",
       "4979                 10000.0      30084.0   \n",
       "4984                   138.0   10246600.0   \n",
       "4987                   969.0     389804.0   \n",
       "4997                   552.0     241816.0   \n",
       "4998                 20000.0     277233.0   \n",
       "5001                   725.0     321952.0   \n",
       "5003                   962.0      24705.0   \n",
       "5004                    32.0     243768.0   \n",
       "5007                   177.0       9609.0   \n",
       "5008                   898.0    3151130.0   \n",
       "5009                     0.0       8231.0   \n",
       "5011                   136.0    2856622.0   \n",
       "5012                  1000.0   10499968.0   \n",
       "5015                     5.0    1227508.0   \n",
       "5021                   830.0     192467.0   \n",
       "5023                   331.0      76382.0   \n",
       "5025                   462.0     180483.0   \n",
       "5026                   576.0     136007.0   \n",
       "5027                     5.0     673780.0   \n",
       "5029                    89.0      94596.0   \n",
       "5033                   291.0     424760.0   \n",
       "5034                     0.0      70071.0   \n",
       "5035                   121.0    2040920.0   \n",
       "5037                   296.0       4584.0   \n",
       "5041                   946.0      10443.0   \n",
       "5042                    86.0      85222.0   \n",
       "\n",
       "                                                 genres  ... title_year  \\\n",
       "0                       Action|Adventure|Fantasy|Sci-Fi  ...     2009.0   \n",
       "1                              Action|Adventure|Fantasy  ...     2007.0   \n",
       "2                             Action|Adventure|Thriller  ...     2015.0   \n",
       "3                                       Action|Thriller  ...     2012.0   \n",
       "5                               Action|Adventure|Sci-Fi  ...     2012.0   \n",
       "6                              Action|Adventure|Romance  ...     2007.0   \n",
       "7     Adventure|Animation|Comedy|Family|Fantasy|Musi...  ...     2010.0   \n",
       "8                               Action|Adventure|Sci-Fi  ...     2015.0   \n",
       "9                      Adventure|Family|Fantasy|Mystery  ...     2009.0   \n",
       "10                              Action|Adventure|Sci-Fi  ...     2016.0   \n",
       "11                              Action|Adventure|Sci-Fi  ...     2006.0   \n",
       "12                                     Action|Adventure  ...     2008.0   \n",
       "13                             Action|Adventure|Fantasy  ...     2006.0   \n",
       "14                             Action|Adventure|Western  ...     2013.0   \n",
       "15                      Action|Adventure|Fantasy|Sci-Fi  ...     2013.0   \n",
       "16                      Action|Adventure|Family|Fantasy  ...     2008.0   \n",
       "17                              Action|Adventure|Sci-Fi  ...     2012.0   \n",
       "18                             Action|Adventure|Fantasy  ...     2011.0   \n",
       "19        Action|Adventure|Comedy|Family|Fantasy|Sci-Fi  ...     2012.0   \n",
       "20                                    Adventure|Fantasy  ...     2014.0   \n",
       "21                             Action|Adventure|Fantasy  ...     2012.0   \n",
       "22                       Action|Adventure|Drama|History  ...     2010.0   \n",
       "23                                    Adventure|Fantasy  ...     2013.0   \n",
       "24                             Adventure|Family|Fantasy  ...     2007.0   \n",
       "25                       Action|Adventure|Drama|Romance  ...     2005.0   \n",
       "26                                        Drama|Romance  ...     1997.0   \n",
       "27                              Action|Adventure|Sci-Fi  ...     2016.0   \n",
       "28                     Action|Adventure|Sci-Fi|Thriller  ...     2012.0   \n",
       "29                     Action|Adventure|Sci-Fi|Thriller  ...     2015.0   \n",
       "30                            Action|Adventure|Thriller  ...     2012.0   \n",
       "...                                                 ...  ...        ...   \n",
       "4974                                     Comedy|Romance  ...     1997.0   \n",
       "4975                           Biography|Comedy|Romance  ...     1998.0   \n",
       "4977                           Comedy|Documentary|Drama  ...     2004.0   \n",
       "4978                                             Comedy  ...     2011.0   \n",
       "4979                                       Comedy|Drama  ...     2014.0   \n",
       "4984                               Comedy|Drama|Romance  ...     1995.0   \n",
       "4987                               Comedy|Drama|Romance  ...     2010.0   \n",
       "4997                                              Drama  ...     2000.0   \n",
       "4998                                     Comedy|Romance  ...     1999.0   \n",
       "5001                                  Documentary|Music  ...     1978.0   \n",
       "5003                                              Drama  ...     2009.0   \n",
       "5004                                            Western  ...     2007.0   \n",
       "5007                                 Comedy|Crime|Drama  ...     2009.0   \n",
       "5008                                             Comedy  ...     1994.0   \n",
       "5009                                      Drama|Fantasy  ...     1971.0   \n",
       "5011                                       Comedy|Drama  ...     1997.0   \n",
       "5012                        Action|Crime|Drama|Thriller  ...     2014.0   \n",
       "5015                                       Comedy|Drama  ...     1991.0   \n",
       "5021                               Comedy|Drama|Romance  ...     2005.0   \n",
       "5023                                            Romance  ...     2009.0   \n",
       "5025                                Comedy|Crime|Horror  ...     1972.0   \n",
       "5026                                Drama|Music|Romance  ...     2004.0   \n",
       "5027                                              Drama  ...     2000.0   \n",
       "5029                      Crime|Horror|Mystery|Thriller  ...     1997.0   \n",
       "5033                              Drama|Sci-Fi|Thriller  ...     2004.0   \n",
       "5034                                           Thriller  ...     2005.0   \n",
       "5035                Action|Crime|Drama|Romance|Thriller  ...     1992.0   \n",
       "5037                                       Comedy|Drama  ...     2011.0   \n",
       "5041                               Comedy|Drama|Romance  ...     2012.0   \n",
       "5042                                        Documentary  ...     2004.0   \n",
       "\n",
       "     actor_2_facebook_likes  imdb_score  movie_facebook_likes rating  G Other  \\\n",
       "0                     936.0         7.9                 33000  PG-13  0     0   \n",
       "1                    5000.0         7.1                     0  PG-13  0     0   \n",
       "2                     393.0         6.8                 85000  PG-13  0     0   \n",
       "3                   23000.0         8.5                164000  PG-13  0     0   \n",
       "5                     632.0         6.6                 24000  PG-13  0     0   \n",
       "6                   11000.0         6.2                     0  PG-13  0     0   \n",
       "7                     553.0         7.8                 29000     PG  0     0   \n",
       "8                   21000.0         7.5                118000  PG-13  0     0   \n",
       "9                   11000.0         7.5                 10000     PG  0     0   \n",
       "10                   4000.0         6.9                197000  PG-13  0     0   \n",
       "11                  10000.0         6.1                     0  PG-13  0     0   \n",
       "12                    412.0         6.7                     0  PG-13  0     0   \n",
       "13                   5000.0         7.3                  5000  PG-13  0     0   \n",
       "14                   2000.0         6.5                 48000  PG-13  0     0   \n",
       "15                   3000.0         7.2                118000  PG-13  0     0   \n",
       "16                    216.0         6.6                     0     PG  0     0   \n",
       "17                  21000.0         8.1                123000  PG-13  0     0   \n",
       "18                  11000.0         6.7                 58000  PG-13  0     0   \n",
       "19                    816.0         6.8                 40000  PG-13  0     0   \n",
       "20                    972.0         7.5                 65000  PG-13  0     0   \n",
       "21                  10000.0         7.0                 56000  PG-13  0     0   \n",
       "22                    882.0         6.7                 17000  PG-13  0     0   \n",
       "23                    972.0         7.9                 83000  PG-13  0     0   \n",
       "24                   6000.0         6.1                     0  PG-13  0     0   \n",
       "25                    919.0         7.2                     0  PG-13  0     0   \n",
       "26                  14000.0         7.7                 26000  PG-13  0     0   \n",
       "27                  19000.0         8.2                 72000  PG-13  0     0   \n",
       "28                  10000.0         5.9                 44000  PG-13  0     0   \n",
       "29                   2000.0         7.0                150000  PG-13  0     0   \n",
       "30                    563.0         7.8                 80000  PG-13  0     0   \n",
       "...                     ...         ...                   ...    ... ..   ...   \n",
       "4974                  166.0         5.4                    97      R  0     0   \n",
       "4975                  184.0         5.3                    30      R  0     0   \n",
       "4977                    0.0         7.3                     0     PG  0     0   \n",
       "4978                  407.0         5.6                     0      R  0     0   \n",
       "4979                  969.0         5.6                   812      R  0     0   \n",
       "4984                  111.0         6.6                   265      R  0     0   \n",
       "4987                  529.0         6.3                     0  Other  0     1   \n",
       "4997                   61.0         7.5                   451  Other  0     1   \n",
       "4998                  467.0         7.6                     0      R  0     0   \n",
       "5001                  572.0         8.2                     0     PG  0     0   \n",
       "5003                   72.0         6.3                   377  Other  0     1   \n",
       "5004                   17.0         4.1                    13      R  0     0   \n",
       "5007                   95.0         6.5                   535      R  0     0   \n",
       "5008                  657.0         7.8                     0      R  0     0   \n",
       "5009                    0.0         6.7                    85  Other  0     1   \n",
       "5011                  108.0         7.3                   489      R  0     0   \n",
       "5012                  206.0         5.7                 10000      R  0     0   \n",
       "5015                    0.0         7.1                  2000      R  0     0   \n",
       "5021                  224.0         6.6                   297      R  0     0   \n",
       "5023                  212.0         6.2                   324  Other  0     1   \n",
       "5025                  143.0         6.1                     0  Other  0     1   \n",
       "5026                  133.0         6.9                   171      R  0     0   \n",
       "5027                    0.0         7.5                   697  Other  0     1   \n",
       "5029                   13.0         7.4                   817  Other  0     1   \n",
       "5033                   45.0         7.0                 19000  PG-13  0     0   \n",
       "5034                    0.0         6.3                    74  Other  0     1   \n",
       "5035                   20.0         6.9                     0      R  0     0   \n",
       "5037                  205.0         6.4                   413  Other  0     1   \n",
       "5041                  719.0         6.3                   660  PG-13  0     0   \n",
       "5042                   23.0         6.6                   456     PG  0     0   \n",
       "\n",
       "      PG PG-13  R  \n",
       "0      0     1  0  \n",
       "1      0     1  0  \n",
       "2      0     1  0  \n",
       "3      0     1  0  \n",
       "5      0     1  0  \n",
       "6      0     1  0  \n",
       "7      1     0  0  \n",
       "8      0     1  0  \n",
       "9      1     0  0  \n",
       "10     0     1  0  \n",
       "11     0     1  0  \n",
       "12     0     1  0  \n",
       "13     0     1  0  \n",
       "14     0     1  0  \n",
       "15     0     1  0  \n",
       "16     1     0  0  \n",
       "17     0     1  0  \n",
       "18     0     1  0  \n",
       "19     0     1  0  \n",
       "20     0     1  0  \n",
       "21     0     1  0  \n",
       "22     0     1  0  \n",
       "23     0     1  0  \n",
       "24     0     1  0  \n",
       "25     0     1  0  \n",
       "26     0     1  0  \n",
       "27     0     1  0  \n",
       "28     0     1  0  \n",
       "29     0     1  0  \n",
       "30     0     1  0  \n",
       "...   ..   ... ..  \n",
       "4974   0     0  1  \n",
       "4975   0     0  1  \n",
       "4977   1     0  0  \n",
       "4978   0     0  1  \n",
       "4979   0     0  1  \n",
       "4984   0     0  1  \n",
       "4987   0     0  0  \n",
       "4997   0     0  0  \n",
       "4998   0     0  1  \n",
       "5001   1     0  0  \n",
       "5003   0     0  0  \n",
       "5004   0     0  1  \n",
       "5007   0     0  1  \n",
       "5008   0     0  1  \n",
       "5009   0     0  0  \n",
       "5011   0     0  1  \n",
       "5012   0     0  1  \n",
       "5015   0     0  1  \n",
       "5021   0     0  1  \n",
       "5023   0     0  0  \n",
       "5025   0     0  0  \n",
       "5026   0     0  1  \n",
       "5027   0     0  0  \n",
       "5029   0     0  0  \n",
       "5033   0     1  0  \n",
       "5034   0     0  0  \n",
       "5035   0     0  1  \n",
       "5037   0     0  0  \n",
       "5041   0     1  0  \n",
       "5042   1     0  0  \n",
       "\n",
       "[4157 rows x 32 columns]>"
      ]
     },
     "execution_count": 9,
     "metadata": {},
     "output_type": "execute_result"
    }
   ],
   "source": [
    "movie_df.keys"
   ]
  },
  {
   "cell_type": "code",
   "execution_count": 10,
   "metadata": {
    "scrolled": true
   },
   "outputs": [
    {
     "data": {
      "text/plain": [
       "<matplotlib.axes._subplots.AxesSubplot at 0x1c1b474a20>"
      ]
     },
     "execution_count": 10,
     "metadata": {},
     "output_type": "execute_result"
    },
    {
     "data": {
      "image/png": "[encoded data removed]",
      "text/plain": [
       "<Figure size 432x288 with 1 Axes>"
      ]
     },
     "metadata": {
      "needs_background": "light"
     },
     "output_type": "display_data"
    }
   ],
   "source": [
    "#create a scatterplot of the budget and gross for the movie df\n",
    "movie_df.plot.scatter(x='budget', y='gross')"
   ]
  },
  {
   "cell_type": "code",
   "execution_count": 12,
   "metadata": {},
   "outputs": [],
   "source": [
    "#get rid of outliers\n",
    "movie_df=movie_df[movie_df['budget']<350000000]"
   ]
  },
  {
   "cell_type": "code",
   "execution_count": 13,
   "metadata": {},
   "outputs": [
    {
     "data": {
      "text/plain": [
       "<matplotlib.axes._subplots.AxesSubplot at 0x1c1b710b00>"
      ]
     },
     "execution_count": 13,
     "metadata": {},
     "output_type": "execute_result"
    },
    {
     "data": {
      "image/png": "[encoded data removed]",
      "text/plain": [
       "<Figure size 432x288 with 1 Axes>"
      ]
     },
     "metadata": {
      "needs_background": "light"
     },
     "output_type": "display_data"
    }
   ],
   "source": [
    "movie_df.plot.scatter(x='budget', y='gross')"
   ]
  },
  {
   "cell_type": "code",
   "execution_count": null,
   "metadata": {},
   "outputs": [],
   "source": [
    "#pearson correlation coefficient use to see if strong correlation "
   ]
  },
  {
   "cell_type": "markdown",
   "metadata": {},
   "source": [
    "<img src='http://www.cqeacademy.com/wp-content/uploads/2018/06/Scatter-Plots-and-Correlation-Examples.png' width=\"900\">"
   ]
  },
  {
   "cell_type": "markdown",
   "metadata": {},
   "source": [
    "### Question:  \n",
    "\n",
    "If we want to provide a measure of the strength of the linear relationship between two quantitative variables, what is the name of the measure we would like to use?\n",
    "\n"
   ]
  },
  {
   "cell_type": "code",
   "execution_count": null,
   "metadata": {},
   "outputs": [],
   "source": []
  },
  {
   "cell_type": "code",
   "execution_count": null,
   "metadata": {},
   "outputs": [],
   "source": []
  },
  {
   "cell_type": "code",
   "execution_count": null,
   "metadata": {},
   "outputs": [],
   "source": []
  },
  {
   "cell_type": "code",
   "execution_count": null,
   "metadata": {},
   "outputs": [],
   "source": []
  },
  {
   "cell_type": "code",
   "execution_count": null,
   "metadata": {},
   "outputs": [],
   "source": []
  },
  {
   "cell_type": "code",
   "execution_count": null,
   "metadata": {},
   "outputs": [],
   "source": []
  },
  {
   "cell_type": "markdown",
   "metadata": {},
   "source": [
    "### Sample Correlation Coefficient\n",
    "\n",
    "The sample correlation coefficient is typically denoted as $r$. It is also known as Pearson’s $r$. The population correlation coefficient is generally denoted as  $\\rho_1$, pronounced “rho.”\n",
    "\n",
    "\n",
    "The sample correlation coefficient, $r$, is calculated using the following formula:\n",
    "\n",
    "$$r=\\dfrac{\\sum (x_i-\\bar{x})(y_i-\\bar{y}) }{\\sqrt{\\sum (x_i-\\bar{x})^2}\\sqrt{\\sum (y_i-\\bar{y})^2}}$$"
   ]
  },
  {
   "cell_type": "code",
   "execution_count": 14,
   "metadata": {},
   "outputs": [
    {
     "data": {
      "text/plain": [
       "(0.9247562987409147, 0.0)"
      ]
     },
     "execution_count": 14,
     "metadata": {},
     "output_type": "execute_result"
    }
   ],
   "source": [
    "#calculate correlation coefficient for data\n",
    "\n",
    "pearsonr(weight_df['Weight'], weight_df['Height'])\n",
    "# saying strength is strong \n",
    "# prob there isnt a relationship is zero ! which means really strong \n"
   ]
  },
  {
   "cell_type": "code",
   "execution_count": 16,
   "metadata": {},
   "outputs": [
    {
     "data": {
      "text/plain": [
       "(0.6360241184013687, 0.0)"
      ]
     },
     "execution_count": 16,
     "metadata": {},
     "output_type": "execute_result"
    }
   ],
   "source": [
    "#calculate correlation coefficient for the movie df\n",
    "pearsonr(movie_df['budget'], movie_df['gross'])"
   ]
  },
  {
   "cell_type": "markdown",
   "metadata": {},
   "source": [
    "## Simple Linear Regression Model\n",
    "\n",
    "The general form of the simple linear regression model is...\n",
    "\n",
    "$$Y=\\beta_0+\\beta_1X+\\epsilon$$\n",
    "\n",
    "For an individual observation,\n",
    "\n",
    "$$y_i=\\beta_0+\\beta_1x_i+\\epsilon_i$$\n",
    "\n",
    "where,\n",
    "\n",
    "$\\beta_0$ is the population y-intercept,\n",
    "\n",
    "$\\beta_1$ is the population slope, and\n",
    "\n",
    "$\\epsilon_i$ is the error or deviation of $y_i$ from the line, $\\beta_0+\\beta_1x_i$."
   ]
  },
  {
   "cell_type": "markdown",
   "metadata": {},
   "source": [
    "<img src=\"https://www.stevejburr.com/post/2019-03-27-scatter-plots-and-best-fit-lines_files/figure-html/unnamed-chunk-2-1.png\" >"
   ]
  },
  {
   "cell_type": "markdown",
   "metadata": {},
   "source": [
    "How do we know which line is the best fit?\n",
    "\n",
    "**It is the line that minimizes our errors, also called residuals.**"
   ]
  },
  {
   "cell_type": "markdown",
   "metadata": {},
   "source": [
    "### Residual\n",
    "$\\hat{\\epsilon}_i=y_i-\\hat{y}_i$ is the observed error, typically called the residual."
   ]
  },
  {
   "cell_type": "markdown",
   "metadata": {},
   "source": [
    "<img src=\"https://encrypted-tbn0.gstatic.com/images?q=tbn:ANd9GcToATqP0jQd-VRjdo8cxNwfcqKoM3cw3b6FembVLP1ExpNLZbW0\" width=\"500\">"
   ]
  },
  {
   "cell_type": "markdown",
   "metadata": {},
   "source": [
    "### Least Squares Line\n",
    "The least squares line is the line for which the sum of squared errors of predictions for all sample points is the least."
   ]
  },
  {
   "cell_type": "markdown",
   "metadata": {},
   "source": [
    "$$SSR = \\sum_{i=1}^n (\\hat{y} - \\bar{y})^2$$"
   ]
  },
  {
   "cell_type": "markdown",
   "metadata": {},
   "source": [
    "## Fitting a Model in Python\n",
    "\n"
   ]
  },
  {
   "cell_type": "code",
   "execution_count": 19,
   "metadata": {},
   "outputs": [
    {
     "data": {
      "text/html": [
       "<table class=\"simpletable\">\n",
       "<caption>OLS Regression Results</caption>\n",
       "<tr>\n",
       "  <th>Dep. Variable:</th>         <td>Weight</td>      <th>  R-squared:         </th> <td>   0.855</td> \n",
       "</tr>\n",
       "<tr>\n",
       "  <th>Model:</th>                   <td>OLS</td>       <th>  Adj. R-squared:    </th> <td>   0.855</td> \n",
       "</tr>\n",
       "<tr>\n",
       "  <th>Method:</th>             <td>Least Squares</td>  <th>  F-statistic:       </th> <td>5.904e+04</td>\n",
       "</tr>\n",
       "<tr>\n",
       "  <th>Date:</th>             <td>Thu, 15 Aug 2019</td> <th>  Prob (F-statistic):</th>  <td>  0.00</td>  \n",
       "</tr>\n",
       "<tr>\n",
       "  <th>Time:</th>                 <td>16:10:34</td>     <th>  Log-Likelihood:    </th> <td> -39219.</td> \n",
       "</tr>\n",
       "<tr>\n",
       "  <th>No. Observations:</th>      <td> 10000</td>      <th>  AIC:               </th> <td>7.844e+04</td>\n",
       "</tr>\n",
       "<tr>\n",
       "  <th>Df Residuals:</th>          <td>  9998</td>      <th>  BIC:               </th> <td>7.846e+04</td>\n",
       "</tr>\n",
       "<tr>\n",
       "  <th>Df Model:</th>              <td>     1</td>      <th>                     </th>     <td> </td>    \n",
       "</tr>\n",
       "<tr>\n",
       "  <th>Covariance Type:</th>      <td>nonrobust</td>    <th>                     </th>     <td> </td>    \n",
       "</tr>\n",
       "</table>\n",
       "<table class=\"simpletable\">\n",
       "<tr>\n",
       "      <td></td>         <th>coef</th>     <th>std err</th>      <th>t</th>      <th>P>|t|</th>  <th>[0.025</th>    <th>0.975]</th>  \n",
       "</tr>\n",
       "<tr>\n",
       "  <th>Intercept</th> <td> -350.7372</td> <td>    2.111</td> <td> -166.109</td> <td> 0.000</td> <td> -354.876</td> <td> -346.598</td>\n",
       "</tr>\n",
       "<tr>\n",
       "  <th>Height</th>    <td>    7.7173</td> <td>    0.032</td> <td>  242.975</td> <td> 0.000</td> <td>    7.655</td> <td>    7.780</td>\n",
       "</tr>\n",
       "</table>\n",
       "<table class=\"simpletable\">\n",
       "<tr>\n",
       "  <th>Omnibus:</th>       <td> 2.141</td> <th>  Durbin-Watson:     </th> <td>   1.677</td>\n",
       "</tr>\n",
       "<tr>\n",
       "  <th>Prob(Omnibus):</th> <td> 0.343</td> <th>  Jarque-Bera (JB):  </th> <td>   2.150</td>\n",
       "</tr>\n",
       "<tr>\n",
       "  <th>Skew:</th>          <td> 0.036</td> <th>  Prob(JB):          </th> <td>   0.341</td>\n",
       "</tr>\n",
       "<tr>\n",
       "  <th>Kurtosis:</th>      <td> 2.991</td> <th>  Cond. No.          </th> <td>1.15e+03</td>\n",
       "</tr>\n",
       "</table><br/><br/>Warnings:<br/>[1] Standard Errors assume that the covariance matrix of the errors is correctly specified.<br/>[2] The condition number is large, 1.15e+03. This might indicate that there are<br/>strong multicollinearity or other numerical problems."
      ],
      "text/plain": [
       "<class 'statsmodels.iolib.summary.Summary'>\n",
       "\"\"\"\n",
       "                            OLS Regression Results                            \n",
       "==============================================================================\n",
       "Dep. Variable:                 Weight   R-squared:                       0.855\n",
       "Model:                            OLS   Adj. R-squared:                  0.855\n",
       "Method:                 Least Squares   F-statistic:                 5.904e+04\n",
       "Date:                Thu, 15 Aug 2019   Prob (F-statistic):               0.00\n",
       "Time:                        16:10:34   Log-Likelihood:                -39219.\n",
       "No. Observations:               10000   AIC:                         7.844e+04\n",
       "Df Residuals:                    9998   BIC:                         7.846e+04\n",
       "Df Model:                           1                                         \n",
       "Covariance Type:            nonrobust                                         \n",
       "==============================================================================\n",
       "                 coef    std err          t      P>|t|      [0.025      0.975]\n",
       "------------------------------------------------------------------------------\n",
       "Intercept   -350.7372      2.111   -166.109      0.000    -354.876    -346.598\n",
       "Height         7.7173      0.032    242.975      0.000       7.655       7.780\n",
       "==============================================================================\n",
       "Omnibus:                        2.141   Durbin-Watson:                   1.677\n",
       "Prob(Omnibus):                  0.343   Jarque-Bera (JB):                2.150\n",
       "Skew:                           0.036   Prob(JB):                        0.341\n",
       "Kurtosis:                       2.991   Cond. No.                     1.15e+03\n",
       "==============================================================================\n",
       "\n",
       "Warnings:\n",
       "[1] Standard Errors assume that the covariance matrix of the errors is correctly specified.\n",
       "[2] The condition number is large, 1.15e+03. This might indicate that there are\n",
       "strong multicollinearity or other numerical problems.\n",
       "\"\"\""
      ]
     },
     "execution_count": 19,
     "metadata": {},
     "output_type": "execute_result"
    }
   ],
   "source": [
    "# building a linear regression model using statsmodel \n",
    "lr_model = ols(formula='Weight~Height', data=weight_df).fit()\n",
    "\n",
    "lr_model.summary()"
   ]
  },
  {
   "cell_type": "code",
   "execution_count": 22,
   "metadata": {},
   "outputs": [
    {
     "data": {
      "text/html": [
       "<table class=\"simpletable\">\n",
       "<caption>OLS Regression Results</caption>\n",
       "<tr>\n",
       "  <th>Dep. Variable:</th>          <td>gross</td>      <th>  R-squared:         </th> <td>   0.405</td> \n",
       "</tr>\n",
       "<tr>\n",
       "  <th>Model:</th>                   <td>OLS</td>       <th>  Adj. R-squared:    </th> <td>   0.404</td> \n",
       "</tr>\n",
       "<tr>\n",
       "  <th>Method:</th>             <td>Least Squares</td>  <th>  F-statistic:       </th> <td>   2814.</td> \n",
       "</tr>\n",
       "<tr>\n",
       "  <th>Date:</th>             <td>Thu, 15 Aug 2019</td> <th>  Prob (F-statistic):</th>  <td>  0.00</td>  \n",
       "</tr>\n",
       "<tr>\n",
       "  <th>Time:</th>                 <td>16:16:58</td>     <th>  Log-Likelihood:    </th> <td> -79574.</td> \n",
       "</tr>\n",
       "<tr>\n",
       "  <th>No. Observations:</th>      <td>  4144</td>      <th>  AIC:               </th> <td>1.592e+05</td>\n",
       "</tr>\n",
       "<tr>\n",
       "  <th>Df Residuals:</th>          <td>  4142</td>      <th>  BIC:               </th> <td>1.592e+05</td>\n",
       "</tr>\n",
       "<tr>\n",
       "  <th>Df Model:</th>              <td>     1</td>      <th>                     </th>     <td> </td>    \n",
       "</tr>\n",
       "<tr>\n",
       "  <th>Covariance Type:</th>      <td>nonrobust</td>    <th>                     </th>     <td> </td>    \n",
       "</tr>\n",
       "</table>\n",
       "<table class=\"simpletable\">\n",
       "<tr>\n",
       "      <td></td>         <th>coef</th>     <th>std err</th>      <th>t</th>      <th>P>|t|</th>  <th>[0.025</th>    <th>0.975]</th>  \n",
       "</tr>\n",
       "<tr>\n",
       "  <th>Intercept</th> <td> 8.984e+06</td> <td> 1.11e+06</td> <td>    8.089</td> <td> 0.000</td> <td> 6.81e+06</td> <td> 1.12e+07</td>\n",
       "</tr>\n",
       "<tr>\n",
       "  <th>budget</th>    <td>    1.0410</td> <td>    0.020</td> <td>   53.045</td> <td> 0.000</td> <td>    1.003</td> <td>    1.080</td>\n",
       "</tr>\n",
       "</table>\n",
       "<table class=\"simpletable\">\n",
       "<tr>\n",
       "  <th>Omnibus:</th>       <td>2394.057</td> <th>  Durbin-Watson:     </th> <td>   1.372</td> \n",
       "</tr>\n",
       "<tr>\n",
       "  <th>Prob(Omnibus):</th>  <td> 0.000</td>  <th>  Jarque-Bera (JB):  </th> <td>37838.922</td>\n",
       "</tr>\n",
       "<tr>\n",
       "  <th>Skew:</th>           <td> 2.434</td>  <th>  Prob(JB):          </th> <td>    0.00</td> \n",
       "</tr>\n",
       "<tr>\n",
       "  <th>Kurtosis:</th>       <td>16.980</td>  <th>  Cond. No.          </th> <td>7.65e+07</td> \n",
       "</tr>\n",
       "</table><br/><br/>Warnings:<br/>[1] Standard Errors assume that the covariance matrix of the errors is correctly specified.<br/>[2] The condition number is large, 7.65e+07. This might indicate that there are<br/>strong multicollinearity or other numerical problems."
      ],
      "text/plain": [
       "<class 'statsmodels.iolib.summary.Summary'>\n",
       "\"\"\"\n",
       "                            OLS Regression Results                            \n",
       "==============================================================================\n",
       "Dep. Variable:                  gross   R-squared:                       0.405\n",
       "Model:                            OLS   Adj. R-squared:                  0.404\n",
       "Method:                 Least Squares   F-statistic:                     2814.\n",
       "Date:                Thu, 15 Aug 2019   Prob (F-statistic):               0.00\n",
       "Time:                        16:16:58   Log-Likelihood:                -79574.\n",
       "No. Observations:                4144   AIC:                         1.592e+05\n",
       "Df Residuals:                    4142   BIC:                         1.592e+05\n",
       "Df Model:                           1                                         \n",
       "Covariance Type:            nonrobust                                         \n",
       "==============================================================================\n",
       "                 coef    std err          t      P>|t|      [0.025      0.975]\n",
       "------------------------------------------------------------------------------\n",
       "Intercept   8.984e+06   1.11e+06      8.089      0.000    6.81e+06    1.12e+07\n",
       "budget         1.0410      0.020     53.045      0.000       1.003       1.080\n",
       "==============================================================================\n",
       "Omnibus:                     2394.057   Durbin-Watson:                   1.372\n",
       "Prob(Omnibus):                  0.000   Jarque-Bera (JB):            37838.922\n",
       "Skew:                           2.434   Prob(JB):                         0.00\n",
       "Kurtosis:                      16.980   Cond. No.                     7.65e+07\n",
       "==============================================================================\n",
       "\n",
       "Warnings:\n",
       "[1] Standard Errors assume that the covariance matrix of the errors is correctly specified.\n",
       "[2] The condition number is large, 7.65e+07. This might indicate that there are\n",
       "strong multicollinearity or other numerical problems.\n",
       "\"\"\""
      ]
     },
     "execution_count": 22,
     "metadata": {},
     "output_type": "execute_result"
    }
   ],
   "source": [
    "lr_modeltwo = ols(formula='gross~budget', data=movie_df).fit()\n",
    "\n",
    "lr_modeltwo.summary()"
   ]
  },
  {
   "cell_type": "markdown",
   "metadata": {},
   "source": [
    "### Applied:\n",
    "    \n",
    "Fit a simple linear model to predict the gross of a film as a function of its budget. Then write a sentence to that will interpret the coefficient of the independent variable and the intercept of the model. "
   ]
  },
  {
   "cell_type": "code",
   "execution_count": null,
   "metadata": {},
   "outputs": [],
   "source": [
    "# your code here"
   ]
  },
  {
   "cell_type": "markdown",
   "metadata": {},
   "source": [
    "## Interpreting the Model output\n",
    "\n",
    "### Interpreting the slope of the regression equation,  $\\hat{\\beta}_1$ \n",
    "$\\hat{\\beta}_1$ represents the estimated increase in $Y$ per unit increase in $X$. Note that the increase may be negative which is reflected when $\\hat{\\beta}_1$ is negative.\n",
    " \n",
    "### Interpreting the intercept of the regression equation, $\\hat{\\beta}_0$\n",
    "$\\hat{\\beta}_0$ is the -intercept of the regression line. When $X=0$ is within the scope of observation, $\\hat{\\beta}_0$ is the estimated value of $Y$ when $X=0$ ."
   ]
  },
  {
   "cell_type": "code",
   "execution_count": null,
   "metadata": {},
   "outputs": [],
   "source": [
    "## write a sentence that interprets the variable coefficient"
   ]
  },
  {
   "cell_type": "markdown",
   "metadata": {},
   "source": [
    "***Can you take the take the output of model summary and use it to rewrite the model with actual values?***\n",
    "\n",
    "(*Replace the betas with numbers*)\n"
   ]
  },
  {
   "cell_type": "code",
   "execution_count": null,
   "metadata": {},
   "outputs": [],
   "source": [
    "## write model here."
   ]
  },
  {
   "cell_type": "markdown",
   "metadata": {},
   "source": [
    "\n",
    "\n",
    "### Why is there a p-value for the coefficient\n",
    "\n",
    "If we think about linear regression as a way to test if there is a relationship between two variables, then we can translate it to a hypothesis test:\n",
    "\n",
    "$H_0\\colon \\beta_1=0$\n",
    "\n",
    "$H_a\\colon \\beta_1\\ne0$\n",
    "\n",
    "With this in mind, how would you interpret the p-value in this output?"
   ]
  },
  {
   "cell_type": "code",
   "execution_count": null,
   "metadata": {},
   "outputs": [],
   "source": [
    "## write your sentence here\n",
    "#p value is zero which is less than .05 so we reject the null. "
   ]
  },
  {
   "cell_type": "markdown",
   "metadata": {},
   "source": [
    "\n",
    "##  Coefficient of Determination ($R^2$)\n",
    "\n",
    "The _coefficient of determination_, is a measure of how well the model fits the data.\n",
    "\n",
    "$R^2$ for a model is ultimately a _relational_ notion. It's a measure of goodness of fit _relative_ to a (bad) baseline model. This bad baseline model is simply the horizontal line $y = \\mu_Y$, for dependent variable $Y$.\n",
    "\n",
    "The actual calculation of $R^2$ is: <br/> $$\\Large R^2=\\frac{\\Sigma_i(y_i - \\hat{y}_i)^2}{\\Sigma_i(y_i - \\bar{y})^2}$$.\n",
    "\n",
    "$R^2$ takes values between 0 and 1.\n",
    "\n",
    "$R^2$ is a measure of how much variation in the dependent variable your model explains.\n"
   ]
  },
  {
   "cell_type": "markdown",
   "metadata": {},
   "source": [
    "<img src='https://pbs.twimg.com/media/D-Gu7E0WsAANhLY.png' width =\"700\">"
   ]
  },
  {
   "cell_type": "markdown",
   "metadata": {},
   "source": [
    "***Write a sentence interpreting the $R^2$ value from your movie model***"
   ]
  },
  {
   "cell_type": "code",
   "execution_count": null,
   "metadata": {},
   "outputs": [],
   "source": [
    "# sentence here"
   ]
  },
  {
   "cell_type": "markdown",
   "metadata": {},
   "source": [
    "### Assumptions for Simple Linear Regression\n",
    "1. **Linearity**: The relationship between $X$ and $Y$ must be linear.\n",
    "    - Check this assumption by examining a scatterplot of x and y.\n",
    "\n",
    "\n",
    "2. **Independence of errors**: There is not a relationship between the residuals and the $Y$ variable; in other words, $Y$ is independent of errors.\n",
    "    - Check this assumption by examining a scatterplot of “residuals versus fits”; the correlation should be approximately 0. In other words, there should not look like there is a relationship.\n",
    "\n",
    "\n",
    "3. **Normality of errors**: The residuals must be approximately normally distributed.\n",
    "    - Check this assumption by examining a normal probability plot; the observations should be near the line. You can also examine a histogram of the residuals; it should be approximately normally distributed.\n",
    "\n",
    "\n",
    "4. **Equal variances**: The variance of the residuals is the same for all values of $X$.\n",
    "    - Check this assumption by examining the scatterplot of “residuals versus fits”; the variance of the residuals should be the same across all values of the x-axis. If the plot shows a pattern (e.g., bowtie or megaphone shape), then variances are not consistent, and this assumption has not been met."
   ]
  },
  {
   "cell_type": "code",
   "execution_count": null,
   "metadata": {},
   "outputs": [],
   "source": [
    "# checking for our model - Homoscedasticity,  Independence of residuals\n",
    "pred_val = lr_model.fittedvalues.copy()\n",
    "true_val = weight_df['Weight'].values.copy()\n",
    "residual = true_val - pred_val\n",
    "\n",
    "fig, ax = plt.subplots(figsize=(8, 6))\n",
    "ax.scatter(weight_df['Weight'],residual)\n",
    "ax.set_title('Residual Scatterplot')\n",
    "plt.show()"
   ]
  },
  {
   "cell_type": "code",
   "execution_count": null,
   "metadata": {},
   "outputs": [],
   "source": [
    "#taking a sample of the observations to more clearly evaluate the residuals\n",
    "idx = np.random.choice(np.arange(len(pred_val)), 200, replace=False)\n",
    "x_sample = weight_df['Weight'][idx]\n",
    "y_sample = residual[idx]\n",
    "\n",
    "fig, ax = plt.subplots(figsize=(8,6))\n",
    "ax.scatter(x_sample,y_sample)\n",
    "ax.set_xlabel('Weight')\n",
    "ax.set_ylabel('Residuals')\n",
    "\n",
    "plt.show()"
   ]
  },
  {
   "cell_type": "code",
   "execution_count": null,
   "metadata": {},
   "outputs": [],
   "source": [
    "# checking for normality - QQ plot \n",
    "\n",
    "fig, ax = plt.subplots(figsize=(8,6))\n",
    "sp.stats.probplot(residual, plot=ax, fit=True)"
   ]
  },
  {
   "cell_type": "markdown",
   "metadata": {},
   "source": [
    "## Cautions with Linear Regression\n",
    "\n",
    "1. **Use extrapolation with caution.** \n",
    "\n",
    "Extrapolation is applying a regression model to X-values outside the range of sample X-values to predict values of the response variable . For example, you would not want to use a height of 12 inches height to predict the weight of a baby using a regression model that was fit to adult observations.\n",
    "\n",
    "2. **The fact that there is no linear relationship (i.e. correlation is zero) does not imply there is no relationship altogether.** \n",
    "\n",
    "The scatter plot will reveal whether other possible relationships may exist. The figure below gives an example where X, Y are related, but not linearly related i.e. the correlation is zero.\n",
    "\n",
    "<img src='https://statistics.laerd.com/spss-tutorials/img/pc/linear-non-linear.png' width=\"600\">"
   ]
  },
  {
   "cell_type": "markdown",
   "metadata": {},
   "source": [
    "### Outliers and Influential Observations\n",
    "Influential observations are points whose removal causes the regression equation to change considerably.\n",
    "\n",
    "\n",
    "https://www.desmos.com/calculator/jwquvmikhr"
   ]
  },
  {
   "cell_type": "code",
   "execution_count": null,
   "metadata": {},
   "outputs": [],
   "source": []
  }
 ],
 "metadata": {
  "kernelspec": {
   "display_name": "Python 3",
   "language": "python",
   "name": "python3"
  },
  "language_info": {
   "codemirror_mode": {
    "name": "ipython",
    "version": 3
   },
   "file_extension": ".py",
   "mimetype": "text/x-python",
   "name": "python",
   "nbconvert_exporter": "python",
   "pygments_lexer": "ipython3",
   "version": "3.7.3"
  }
 },
 "nbformat": 4,
 "nbformat_minor": 2
}
